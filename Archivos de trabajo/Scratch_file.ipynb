{
 "cells": [
  {
   "attachments": {},
   "cell_type": "markdown",
   "metadata": {},
   "source": [
    "# Tarea de Arranque\n",
    "### Grupo 3\n",
    "### MINE 4102 202310\n"
   ]
  },
  {
   "cell_type": "code",
   "execution_count": 154,
   "metadata": {},
   "outputs": [],
   "source": [
    "# importa librerías\n",
    "\n",
    "## Beautiful Soup 4\n",
    "import bs4 as bs\n",
    "import pandas as pd\n",
    "import numpy as np\n",
    "import re\n",
    "import matplotlib.pyplot as plt\n",
    "import seaborn as sns"
   ]
  },
  {
   "attachments": {},
   "cell_type": "markdown",
   "metadata": {},
   "source": [
    "El primer paso, consiste en importar el archivo y transformarlo usando ```Beautiful Soup``` para leer el contenido del texto.\n",
    "Dejamos formuladas las variables de entrada para poder automatizar."
   ]
  },
  {
   "cell_type": "code",
   "execution_count": 128,
   "metadata": {},
   "outputs": [],
   "source": [
    "# nombre del archivo\n",
    "fname = 'reut2-021.sgm'\n",
    "\n",
    "# genera el objeto 'Soup'\n",
    "f = open(fname, 'r')\n",
    "data = f.read()\n",
    "soup = bs.BeautifulSoup(data, 'html.parser')"
   ]
  },
  {
   "attachments": {},
   "cell_type": "markdown",
   "metadata": {},
   "source": [
    "Cada archivo de reuters, contiene varios artículos, por lo que es conveniente separar los artículos para poder accederlos independientemente.\n",
    "Dada la estructura del archivo, vamos a extraer el texto delimitado por tags ```<BODY>``` / ```</BODY>``` y ```<TITLE>``` / ```</TITLE>``` que hace referencia al texto del archivo"
   ]
  },
  {
   "cell_type": "code",
   "execution_count": 129,
   "metadata": {},
   "outputs": [],
   "source": [
    "# Define función que captura texto de títulos y cuerpo de cada archivo \n",
    "\n",
    "def captura_textos(soup):\n",
    "    \n",
    "    '''--------------------------\n",
    "    Recibe objeto soup para cada archivo de reuters.\n",
    "    Genera lista de títulos y de cuerpos para cada artículo.\n",
    "    Existen títulos sin cuerpo.\n",
    "    '''\n",
    "    \n",
    "    lista_art, lista_titulos = list(), list()\n",
    "    \n",
    "    for art in soup.find_all('body'):\n",
    "        lista_art.append(art.get_text())\n",
    "    \n",
    "    for art in soup.find_all('title'):\n",
    "        lista_titulos.append(art.get_text())\n",
    "    \n",
    "    return lista_art, lista_titulos"
   ]
  },
  {
   "cell_type": "code",
   "execution_count": 130,
   "metadata": {},
   "outputs": [],
   "source": [
    "# captura de textos\n",
    "ls_cuerpos, ls_titulos = captura_textos(soup)\n"
   ]
  },
  {
   "cell_type": "markdown",
   "metadata": {},
   "source": [
    "En este archivo en particular, encontramos un total de 460 artículos con cuerpo de texto.\n",
    "Cada artículo puede ser llamado con el iterable de la lista."
   ]
  },
  {
   "cell_type": "code",
   "execution_count": 131,
   "metadata": {},
   "outputs": [
    {
     "name": "stdout",
     "output_type": "stream",
     "text": [
      "# de títulos en el archivo: 575\n",
      "# de artículos con cuerpo en el archivo: 460\n"
     ]
    }
   ],
   "source": [
    "print('# de títulos en el archivo:', len(ls_titulos))\n",
    "print('# de artículos con cuerpo en el archivo:', len(ls_cuerpos))"
   ]
  },
  {
   "attachments": {},
   "cell_type": "markdown",
   "metadata": {},
   "source": [
    "Con las listas de texto generadas, procedemos a limpiar el texto.\n",
    "En primer lugar, consideramos todos los ```string``` en letras minúsculas (ya que nos parece más interesante investigar la frecuencia de palablas sin discriminar entre mayúsculas y minúsculas).\n",
    "En segundo lugar, capturamos un nuevo ```string``` sin signos de puntuación."
   ]
  },
  {
   "cell_type": "code",
   "execution_count": 132,
   "metadata": {},
   "outputs": [],
   "source": [
    "def adecuacion_texto(ls):\n",
    "    '''--------------------------\n",
    "    Recibe lista de distintos strings.\n",
    "    '''\n",
    "    nueva_lista = list()\n",
    "    for texto in ls:\n",
    "        minusculas = texto.lower()\n",
    "        sin_puntuacion = re.sub(r'[^\\w\\s][^\\\\n]', '', minusculas)\n",
    "        nueva_lista.append(sin_puntuacion)\n",
    "    return nueva_lista\n"
   ]
  },
  {
   "cell_type": "code",
   "execution_count": 133,
   "metadata": {},
   "outputs": [
    {
     "name": "stdout",
     "output_type": "stream",
     "text": [
      "# Muestra del resultado:  ccr video sayst received offer to negotiate a takeover by intercep investment corp\n",
      "\n"
     ]
    }
   ],
   "source": [
    "ls_cuerpos_limpia, ls_titulos_limpia = adecuacion_texto(ls_cuerpos), adecuacion_texto(ls_titulos)\n",
    "\n",
    "#Muestra\n",
    "print('# Muestra del resultado: ',ls_titulos_limpia[2])"
   ]
  },
  {
   "attachments": {},
   "cell_type": "markdown",
   "metadata": {},
   "source": [
    "Encontrar el # de palabras en el archivo."
   ]
  },
  {
   "cell_type": "code",
   "execution_count": 134,
   "metadata": {},
   "outputs": [],
   "source": [
    "def num_palabras(ls):\n",
    "    count = 0\n",
    "    for texto in ls:\n",
    "        for palabra in texto.split():\n",
    "            count += 1\n",
    "    return count"
   ]
  },
  {
   "cell_type": "code",
   "execution_count": 135,
   "metadata": {},
   "outputs": [
    {
     "name": "stdout",
     "output_type": "stream",
     "text": [
      "48772\n"
     ]
    }
   ],
   "source": [
    "print(num_palabras(ls_cuerpos_limpia))"
   ]
  },
  {
   "cell_type": "code",
   "execution_count": 136,
   "metadata": {},
   "outputs": [
    {
     "name": "stdout",
     "output_type": "stream",
     "text": [
      "4150\n"
     ]
    }
   ],
   "source": [
    "print(num_palabras(ls_titulos_limpia))"
   ]
  },
  {
   "attachments": {},
   "cell_type": "markdown",
   "metadata": {},
   "source": [
    "Finalmente, para encontrar el número de palabras total en el archivo, unimos ambas listas (titulos + cuerpo) para tener un conteo del número total de palabras."
   ]
  },
  {
   "cell_type": "code",
   "execution_count": 137,
   "metadata": {},
   "outputs": [
    {
     "name": "stdout",
     "output_type": "stream",
     "text": [
      "Encontramos un total de 52922 palabras en el archivo reut2-021.sgm.\n"
     ]
    }
   ],
   "source": [
    "texto_archivo = ls_titulos_limpia + ls_cuerpos_limpia\n",
    "conteo_total = num_palabras(texto_archivo)\n",
    "print('Encontramos un total de {0} palabras en el archivo {1}.'.format(conteo_total, fname))"
   ]
  },
  {
   "attachments": {},
   "cell_type": "markdown",
   "metadata": {},
   "source": [
    "Generar contador de frecuencia de cada una de las palabras que aparecen en el texto."
   ]
  },
  {
   "cell_type": "code",
   "execution_count": 213,
   "metadata": {},
   "outputs": [],
   "source": [
    "def gen_df_frecuencias(ls):\n",
    "    '''\n",
    "    ------------------------\n",
    "    Recibe lista agregada de texto y genera diccionario en formato {palabra: frecuencia}\n",
    "    '''\n",
    "    d = dict()\n",
    "    for texto in ls:\n",
    "        for word in texto.split():\n",
    "            if word in d:\n",
    "                d[word] += 1\n",
    "            else:\n",
    "                d[word] = 1\n",
    "    flag_index = [i for i in range(len(d))]\n",
    "    df = pd.DataFrame.from_dict(data = d, orient='index')\n",
    "    df['Palabras'] = df.index.values\n",
    "    df['indx'] = flag_index\n",
    "    df['Freq'] = df[0]\n",
    "    df.set_index(['indx'], inplace=True)\n",
    "    df = df[['Palabras', 'Freq']]\n",
    "    return df"
   ]
  },
  {
   "cell_type": "code",
   "execution_count": 214,
   "metadata": {},
   "outputs": [
    {
     "data": {
      "text/html": [
       "<div>\n",
       "<style scoped>\n",
       "    .dataframe tbody tr th:only-of-type {\n",
       "        vertical-align: middle;\n",
       "    }\n",
       "\n",
       "    .dataframe tbody tr th {\n",
       "        vertical-align: top;\n",
       "    }\n",
       "\n",
       "    .dataframe thead th {\n",
       "        text-align: right;\n",
       "    }\n",
       "</style>\n",
       "<table border=\"1\" class=\"dataframe\">\n",
       "  <thead>\n",
       "    <tr style=\"text-align: right;\">\n",
       "      <th></th>\n",
       "      <th>Palabras</th>\n",
       "      <th>Freq</th>\n",
       "    </tr>\n",
       "    <tr>\n",
       "      <th>indx</th>\n",
       "      <th></th>\n",
       "      <th></th>\n",
       "    </tr>\n",
       "  </thead>\n",
       "  <tbody>\n",
       "    <tr>\n",
       "      <th>0</th>\n",
       "      <td>cityfed</td>\n",
       "      <td>2</td>\n",
       "    </tr>\n",
       "    <tr>\n",
       "      <th>1</th>\n",
       "      <td>financial</td>\n",
       "      <td>44</td>\n",
       "    </tr>\n",
       "    <tr>\n",
       "      <th>2</th>\n",
       "      <td>corp</td>\n",
       "      <td>173</td>\n",
       "    </tr>\n",
       "    <tr>\n",
       "      <th>3</th>\n",
       "      <td>says</td>\n",
       "      <td>30</td>\n",
       "    </tr>\n",
       "    <tr>\n",
       "      <th>4</th>\n",
       "      <td>it</td>\n",
       "      <td>354</td>\n",
       "    </tr>\n",
       "  </tbody>\n",
       "</table>\n",
       "</div>"
      ],
      "text/plain": [
       "       Palabras  Freq\n",
       "indx                 \n",
       "0       cityfed     2\n",
       "1     financial    44\n",
       "2          corp   173\n",
       "3          says    30\n",
       "4            it   354"
      ]
     },
     "execution_count": 214,
     "metadata": {},
     "output_type": "execute_result"
    }
   ],
   "source": [
    "df = gen_df_frecuencias(texto_archivo)\n",
    "\n",
    "df.head()"
   ]
  },
  {
   "cell_type": "code",
   "execution_count": 215,
   "metadata": {},
   "outputs": [
    {
     "data": {
      "text/html": [
       "<div>\n",
       "<style scoped>\n",
       "    .dataframe tbody tr th:only-of-type {\n",
       "        vertical-align: middle;\n",
       "    }\n",
       "\n",
       "    .dataframe tbody tr th {\n",
       "        vertical-align: top;\n",
       "    }\n",
       "\n",
       "    .dataframe thead th {\n",
       "        text-align: right;\n",
       "    }\n",
       "</style>\n",
       "<table border=\"1\" class=\"dataframe\">\n",
       "  <thead>\n",
       "    <tr style=\"text-align: right;\">\n",
       "      <th></th>\n",
       "      <th>Palabras</th>\n",
       "      <th>Freq</th>\n",
       "    </tr>\n",
       "    <tr>\n",
       "      <th>indx</th>\n",
       "      <th></th>\n",
       "      <th></th>\n",
       "    </tr>\n",
       "  </thead>\n",
       "  <tbody>\n",
       "    <tr>\n",
       "      <th>57</th>\n",
       "      <td>the</td>\n",
       "      <td>2394</td>\n",
       "    </tr>\n",
       "    <tr>\n",
       "      <th>56</th>\n",
       "      <td>of</td>\n",
       "      <td>1354</td>\n",
       "    </tr>\n",
       "    <tr>\n",
       "      <th>8</th>\n",
       "      <td>to</td>\n",
       "      <td>1236</td>\n",
       "    </tr>\n",
       "    <tr>\n",
       "      <th>150</th>\n",
       "      <td>in</td>\n",
       "      <td>982</td>\n",
       "    </tr>\n",
       "    <tr>\n",
       "      <th>263</th>\n",
       "      <td>vs</td>\n",
       "      <td>966</td>\n",
       "    </tr>\n",
       "    <tr>\n",
       "      <th>...</th>\n",
       "      <td>...</td>\n",
       "      <td>...</td>\n",
       "    </tr>\n",
       "    <tr>\n",
       "      <th>4557</th>\n",
       "      <td>cie</td>\n",
       "      <td>1</td>\n",
       "    </tr>\n",
       "    <tr>\n",
       "      <th>4556</th>\n",
       "      <td>und</td>\n",
       "      <td>1</td>\n",
       "    </tr>\n",
       "    <tr>\n",
       "      <th>4555</th>\n",
       "      <td>bbc</td>\n",
       "      <td>1</td>\n",
       "    </tr>\n",
       "    <tr>\n",
       "      <th>4552</th>\n",
       "      <td>seatsaid</td>\n",
       "      <td>1</td>\n",
       "    </tr>\n",
       "    <tr>\n",
       "      <th>8967</th>\n",
       "      <td>vxfor</td>\n",
       "      <td>1</td>\n",
       "    </tr>\n",
       "  </tbody>\n",
       "</table>\n",
       "<p>8968 rows × 2 columns</p>\n",
       "</div>"
      ],
      "text/plain": [
       "      Palabras  Freq\n",
       "indx                \n",
       "57         the  2394\n",
       "56          of  1354\n",
       "8           to  1236\n",
       "150         in   982\n",
       "263         vs   966\n",
       "...        ...   ...\n",
       "4557       cie     1\n",
       "4556       und     1\n",
       "4555       bbc     1\n",
       "4552  seatsaid     1\n",
       "8967     vxfor     1\n",
       "\n",
       "[8968 rows x 2 columns]"
      ]
     },
     "execution_count": 215,
     "metadata": {},
     "output_type": "execute_result"
    }
   ],
   "source": [
    "df_s = df.sort_values(by='Freq', ascending=False)\n",
    "df_s"
   ]
  },
  {
   "attachments": {},
   "cell_type": "markdown",
   "metadata": {},
   "source": [
    "# Gráfica de Frecuencias"
   ]
  },
  {
   "cell_type": "code",
   "execution_count": 237,
   "metadata": {},
   "outputs": [
    {
     "data": {
      "image/png": "[encoded data removed]",
      "text/plain": [
       "<Figure size 640x480 with 1 Axes>"
      ]
     },
     "metadata": {},
     "output_type": "display_data"
    }
   ],
   "source": [
    "#Top n palabras\n",
    "numero = 25\n",
    "n0 = 200 #start\n",
    "nn = n0 + numero #stop\n",
    "\n",
    "# grafica\n",
    "sns.barplot(data=df_s[n0:nn], x='Palabras', y='Freq')\n",
    "x_ticks = [x for x in range(len(df_s[n0:nn]))]\n",
    "ax = plt.subplot()\n",
    "ax.set_xticks(x_ticks)\n",
    "ax.set_xticklabels(df_s[n0:nn].Palabras, rotation = 60)\n",
    "\n",
    "\n",
    "plt.show()\n",
    "plt.close()"
   ]
  },
  {
   "cell_type": "code",
   "execution_count": 242,
   "metadata": {},
   "outputs": [
    {
     "name": "stdout",
     "output_type": "stream",
     "text": [
      "[31]\n"
     ]
    }
   ],
   "source": [
    "the_cont = df_s[df_s.Palabras == 'spokesman'].Freq.values\n",
    "print(the_cont)"
   ]
  }
 ],
 "metadata": {
  "kernelspec": {
   "display_name": "venv0",
   "language": "python",
   "name": "python3"
  },
  "language_info": {
   "codemirror_mode": {
    "name": "ipython",
    "version": 3
   },
   "file_extension": ".py",
   "mimetype": "text/x-python",
   "name": "python",
   "nbconvert_exporter": "python",
   "pygments_lexer": "ipython3",
   "version": "3.9.16"
  },
  "orig_nbformat": 4,
  "vscode": {
   "interpreter": {
    "hash": "b0593c7449b182f39276613256470a08b7d845c6e3c0aa1db39e12a9ffadb18d"
   }
  }
 },
 "nbformat": 4,
 "nbformat_minor": 2
}
